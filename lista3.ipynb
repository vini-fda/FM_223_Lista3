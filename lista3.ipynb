{
 "cells": [
  {
   "cell_type": "markdown",
   "metadata": {},
   "source": [
    "# FM-223: Lista 3\n",
    "\n",
    "Aluno:  Vinícius Freitas de Almeida"
   ]
  },
  {
   "cell_type": "markdown",
   "metadata": {},
   "source": [
    "## Exercício 2.1\n",
    "\n",
    "For each of the following linear maps, decide whether the origin is a sink, source or saddle.\n",
    "\n",
    "a) $\\begin{bmatrix} 4 \\quad 30 \\\\ 1 \\quad 3 \\end{bmatrix}$\n",
    "b) $\\begin{bmatrix} 1 \\quad 1/2 \\\\ 1/4 \\quad 3/4 \\end{bmatrix}$\n",
    "c) $\\begin{bmatrix} -0.4 \\quad 2.4 \\\\ -0.4 \\quad 1.6 \\end{bmatrix}$"
   ]
  },
  {
   "cell_type": "markdown",
   "metadata": {},
   "source": [
    "## Solução\n",
    "\n",
    "Por definição, um ponto fixo $p$ é atrator (sink) se existe $\\varepsilon > 0$ tal que, para todo ponto $v$ na vizinhança $V_\\varepsilon(p)$, existe $n_0 \\in \\mathbb{N}$ tal que $f^n(v) \\in V_\\varepsilon(p)$ para todo $n \\geq n_0$. \n",
    "\n",
    "Com isso em mente, pode-se analisar um mapa linear $f: \\mathbb{R}^2 \\to \\mathbb{R}^2$ a partir dos autovalores de sua matriz associada $A$. Vejamos os pontos fixos de $f$:\n",
    "\n",
    "$$ f(x) = x \\iff A x = x \\iff (I - A) x = 0 $$\n",
    "\n",
    "Se $\\det{(I-A)} \\neq 0$, i.e. se todos os autovalores de $A$ são diferentes de 1 (nesse caso, $f$ é um mapa linear hiperbólico), então $x = 0$ (vetor nulo) é o único ponto fixo de $f$. Caso contrário, podem existir outros pontos fixos. Exemplo trivial: $A=I$, ou seja, o mapa identidade. Nesse caso, $x = 0$ é um ponto fixo, mas qualquer outro ponto $x \\in \\mathbb{R}^2$ também é um ponto fixo.\n",
    "\n",
    "Como a matriz $A$ pode ter autovalores repetidos, é útil usar a forma canônica de Jordan para analisar os pontos fixos de $f$. Seja $J$ a forma canônica de Jordan de $A$, i.e. $J = P^{-1} A P$, onde $P$ é uma matriz invertível. Equivalentemente, $A = P J P^{-1}$. Assim,\n",
    "\n",
    "$$f^k(x) = A^k x = \\left(\\prod_{i=1}^{k} P J P^{-1}\\right) x = P J^k P^{-1} x$$\n",
    "\n",
    "No caso particular de matrizes $A \\in \\mathbb{R}^{2 \\times 2}$, a forma canônica de Jordan pode assumir duas possibilidades:\n",
    "\n",
    "$$ J = \\begin{bmatrix} \\lambda_1 & 0 \\\\ 0 & \\lambda_2 \\end{bmatrix} \\quad \\text{ou} \\quad J = \\begin{bmatrix} \\lambda & 1 \\\\ 0 & \\lambda \\end{bmatrix} $$\n",
    "\n",
    "E, portanto:\n",
    "\n",
    "$$ J^k = \\begin{bmatrix} \\lambda_1^k & 0 \\\\ 0 & \\lambda_2^k \\end{bmatrix} \\quad \\text{ou} \\quad J^k = \\begin{bmatrix} \\lambda^k & k \\lambda^{k-1} \\\\ 0 & \\lambda^k \\end{bmatrix} $$\n",
    "\n",
    "Fica fácil perceber que se $ \\max\\{|\\lambda_1|, |\\lambda_2|\\} < 1$, então a origem será um ponto atrator (sink), pois\n",
    "\n",
    "$$ \\lim_{n \\to \\infty} J^k = 0 \\implies \\lim_{n \\to \\infty} (A^k x) = 0$$\n",
    "\n",
    "No entanto, se $|\\lambda_1| > 1$ e $|\\lambda_2| < 1$, então a origem será um ponto de sela (saddle), uma vez que $A$ terá tanto um subespaço vetorial que converge para $0$ e quanto outro que diverge. Por fim, se $|\\lambda_1| > 1$ e $|\\lambda_2| > 1$, então a origem será um ponto repulsor (source), pois a aplicação iterada de $A$ irá divergir para qualquer $x \\in \\{\\mathbb{R}^2 - \\{0\\}\\}$.\n",
    "\n",
    "Com tal análise em mente, vamos analisar os autovalores das matrizes na questão:"
   ]
  },
  {
   "cell_type": "code",
   "execution_count": 114,
   "metadata": {},
   "outputs": [
    {
     "name": "stdout",
     "output_type": "stream",
     "text": [
      "eigenvalues: [ 9. -2.]\n",
      "a) source\n",
      "eigenvalues: [1.25 0.5 ]\n",
      "b) saddle\n",
      "eigenvalues: [0.4 0.8]\n",
      "c) sink\n"
     ]
    }
   ],
   "source": [
    "import numpy as np\n",
    "\n",
    "def classify_linear_map(a):\n",
    "    eigvals = np.linalg.eigvals(a)\n",
    "    print(f\"eigenvalues: {eigvals}\")\n",
    "    # magnitude of eigenvalues\n",
    "    eigvals_abs = np.absolute(eigvals)\n",
    "    max_l = np.max(eigvals_abs)\n",
    "    min_l= np.min(eigvals_abs)\n",
    "    # sink, source or saddle\n",
    "    if max_l < 1:\n",
    "        return 'sink'\n",
    "    elif min_l > 1:\n",
    "        return 'source'\n",
    "    elif np.any(eigvals_abs < 1) and np.any(eigvals_abs > 1):\n",
    "        return 'saddle'\n",
    "    else:\n",
    "        return 'unknown'\n",
    "\n",
    "# a)\n",
    "a = np.array([[4,30],[1,3]])\n",
    "print(f\"a) {classify_linear_map(a)}\")\n",
    "# b)\n",
    "b = np.array([[1,1/2],[1/4,3/4]])\n",
    "print(f\"b) {classify_linear_map(b)}\")\n",
    "# c)\n",
    "c = np.array([[-0.4,-0.4],[2.4,1.6]])\n",
    "print(f\"c) {classify_linear_map(c)}\")"
   ]
  },
  {
   "cell_type": "markdown",
   "metadata": {},
   "source": [
    "## Exercício 2.2\n",
    "\n",
    "Find $$ \\lim_{n \\to \\infty} \\begin{bmatrix} 4.5 \\quad 8 \\\\ -2 \\quad -3.5 \\end{bmatrix}^n \\begin{bmatrix} 6 \\\\ 9 \\end{bmatrix}$$"
   ]
  },
  {
   "cell_type": "code",
   "execution_count": 115,
   "metadata": {},
   "outputs": [
    {
     "name": "stdout",
     "output_type": "stream",
     "text": [
      "eigenvalues: [0.5 0.5]\n",
      "eigenvectors: [[ 0.89442719 -0.89442719]\n",
      " [-0.4472136   0.4472136 ]]\n"
     ]
    }
   ],
   "source": [
    "m = np.array([[4.5,8],[-2,-3.5]])\n",
    "l, q = np.linalg.eig(m)\n",
    "print(f\"eigenvalues: {l}\")\n",
    "print(f\"eigenvectors: {q}\")"
   ]
  },
  {
   "cell_type": "markdown",
   "metadata": {},
   "source": [
    "Como todos os autovalores têm módulo menor que 1, o limite em questão é o vetor nulo 0."
   ]
  },
  {
   "cell_type": "markdown",
   "metadata": {},
   "source": [
    "$$ \\lim_{n \\to \\infty} \\begin{bmatrix} 4.5 \\quad 8 \\\\ -2 \\quad -3.5 \\end{bmatrix}^n \\begin{bmatrix} 6 \\\\ 9 \\end{bmatrix} = 0$$"
   ]
  },
  {
   "cell_type": "markdown",
   "metadata": {},
   "source": [
    "## Exercício 2.3\n",
    "\n",
    "Let $g(x,y) = (x^2 - 5x + y, x^2)$. Find and classify the fixed points of $g$ as sinks, sources or saddles."
   ]
  },
  {
   "cell_type": "markdown",
   "metadata": {},
   "source": [
    "## Solução\n",
    "\n",
    "Usando a definição de ponto fixo:\n",
    "\n",
    "$$ g(x,y) = (x,y) \\iff (x^2 - 5x + y, x^2) = (x,y)$$\n",
    "\n",
    "Assim, o conjunto $F$ de pontos fixos de $g$ é o subconjunto de $\\mathbb{R}^2$ dado por:\n",
    "\n",
    "$$ F = \\{ (x,y) \\in \\mathbb{R}^2 | x^2 - 6x + y = 0, \\quad x^2 - y = 0\\} $$\n",
    "\n",
    "Equivalentemente:\n",
    "\n",
    "$$ F = \\{ (x,y) \\in \\mathbb{R}^2 | x^2 - 3x = 0, \\quad x^2 = y\\} = \\{ (x,y) \\in \\mathbb{R}^2 | x (x-3) = 0, \\quad y = x^2\\}$$\n",
    "\n",
    "Por fim:\n",
    "\n",
    "$$ F = \\{ (0,0), (3,9) \\} $$\n",
    "\n",
    "Jacobiana de $g$:\n",
    "\n",
    "$$ Dg(x,y) = \\begin{bmatrix} 2x - 5 & 1 \\\\ 2x & 0 \\end{bmatrix}$$\n",
    "\n",
    "Para $(0,0)$:\n",
    "\n",
    "$$ Dg(0,0) = \\begin{bmatrix} -5 & 1 \\\\ 0 & 0 \\end{bmatrix}$$\n",
    "\n",
    "Autovalores $\\lambda_1 = 0$ e $\\lambda_2 = -5$. Como $|\\lambda_1| < 1$ e $|\\lambda_2| > 1$, $(0,0)$ é um ponto de sela.\n",
    "\n",
    "Para $(3,9)$:\n",
    "\n",
    "$$ Dg(3,9) = \\begin{bmatrix} 1 & 1 \\\\ 12 & 0 \\end{bmatrix}$$\n",
    "\n",
    "Autovalores $\\lambda_1 = 4$ e $\\lambda_2 = -3$. Como $|\\lambda_1| > 1$ e $|\\lambda_2| > 1$, $(3,9)$ é um ponto repulsor."
   ]
  },
  {
   "cell_type": "markdown",
   "metadata": {},
   "source": [
    "## Exercício 2.4\n",
    "\n",
    "Find and classify all fixed points and period-two orbits of the Hénon map with\n",
    "\n",
    "a) $a = -0.56$ and $b = -0.5$\n",
    "\n",
    "b) $a = 0.21$ and $b = 0.6$"
   ]
  },
  {
   "cell_type": "markdown",
   "metadata": {},
   "source": [
    "## Solução\n",
    "\n",
    "O mapa de Hénon é dado por:\n",
    "\n",
    "$$ f_{a,b}(x,y) = (a-x^2+by,x) $$\n",
    "\n",
    "Para achar os pontos fixos, basta resolver:\n",
    "\n",
    "$$ f_{a,b}(x,y) = (x,y) \\iff (a-x^2+by,x) = (x,y) \\iff a-x^2+by = x \\text{ e } x = y $$\n",
    "\n",
    "Assim, o conjunto $F$ de pontos fixos de $f_{a,b}$ é o subconjunto de $\\mathbb{R}^2$ dado por:\n",
    "\n",
    "$$ F = \\{ (x,y) \\in \\mathbb{R}^2 | x^2 + (1-b)x -a = 0 \\text{ e } x = y \\} $$\n",
    "\n",
    "A equação quadrática resulta em:\n",
    "\n",
    "$$ x = \\frac{b-1 \\pm \\sqrt{(1-b)^2 + 4a}}{2} $$\n",
    "\n",
    "Jacobiana de $f_{a,b}$:\n",
    "\n",
    "$$ Df_{a,b}(x,y) = \\begin{bmatrix} -2x & b \\\\ 1 & 0 \\end{bmatrix}$$\n",
    "\n",
    "Para encontrar as órbitas de período 2, é preciso resolver $f^2_{a,b}(x,y) = (x,y)$:\n",
    "\n",
    "$$ (x,y) \\underbrace{\\mapsto}_f (a-x^2+by,x) \\underbrace{\\mapsto}_f (-a^2 - 2 a b y + 2 a x^2 + a - b^2 y^2 + 2 b x^2 y + b x - x^4,a-x^2+by) $$\n",
    "\n",
    "Assim, é preciso resolver o sistema:\n",
    "\n",
    "$$ \\begin{cases} -a^2 - 2 a b y + 2 a x^2 + a - b^2 y^2 + 2 b x^2 y + b x - x^4 = x \\\\ a-x^2+by = y \\end{cases} $$\n",
    "\n",
    "No entanto, é preciso remover os dois pontos fixos obtidos anteriormente, pois eles são órbitas de período 1.\n",
    "\n",
    "A resposta será desenvolvida usando a biblioteca `sympy` do Python. Porém, evidentemente, é possível resolver o sistema acima usando manipulações algébricas (uma delas seria notar que o polinômio do quarto grau pode ser reduzido para segundo grau, uma vez que 2 de suas raízes estão contempladas pelos pontos fixos)."
   ]
  },
  {
   "cell_type": "code",
   "execution_count": 116,
   "metadata": {},
   "outputs": [],
   "source": [
    "from sympy import *\n",
    "\n",
    "a, b, x, y = symbols('a b x y', real=True)\n",
    "\n",
    "# Solve for (x,y) to obtain candidate solutions for f^2(x,y) = (x,y)\n",
    "eq1 = Eq(x, -a**2 - 2*a*b*y + 2*a*x**2 + a - b**2*y**2 + 2*b*x**2*y + b*x - x**4)\n",
    "eq2 = Eq(y, a-x**2+b*y)"
   ]
  },
  {
   "cell_type": "code",
   "execution_count": 117,
   "metadata": {},
   "outputs": [
    {
     "data": {
      "text/latex": [
       "$\\displaystyle x = - a^{2} - 2 a b y + 2 a x^{2} + a - b^{2} y^{2} + 2 b x^{2} y + b x - x^{4}$"
      ],
      "text/plain": [
       "Eq(x, -a**2 - 2*a*b*y + 2*a*x**2 + a - b**2*y**2 + 2*b*x**2*y + b*x - x**4)"
      ]
     },
     "execution_count": 117,
     "metadata": {},
     "output_type": "execute_result"
    }
   ],
   "source": [
    "eq1"
   ]
  },
  {
   "cell_type": "code",
   "execution_count": 118,
   "metadata": {},
   "outputs": [
    {
     "data": {
      "text/latex": [
       "$\\displaystyle y = a + b y - x^{2}$"
      ],
      "text/plain": [
       "Eq(y, a + b*y - x**2)"
      ]
     },
     "execution_count": 118,
     "metadata": {},
     "output_type": "execute_result"
    }
   ],
   "source": [
    "eq2"
   ]
  },
  {
   "cell_type": "code",
   "execution_count": 119,
   "metadata": {},
   "outputs": [
    {
     "name": "stdout",
     "output_type": "stream",
     "text": [
      "Candidates for solution: \n"
     ]
    },
    {
     "data": {
      "text/latex": [
       "$\\displaystyle \\left[ \\left( - \\frac{b}{2} - \\frac{\\sqrt{4 a - 3 b^{2} + 6 b - 3}}{2} + \\frac{1}{2}, \\  - \\frac{b}{2} + \\frac{\\sqrt{4 a - 3 b^{2} + 6 b - 3}}{2} + \\frac{1}{2}\\right), \\  \\left( - \\frac{b}{2} + \\frac{\\sqrt{4 a - 3 b^{2} + 6 b - 3}}{2} + \\frac{1}{2}, \\  - \\frac{b}{2} - \\frac{\\sqrt{4 a - 3 b^{2} + 6 b - 3}}{2} + \\frac{1}{2}\\right), \\  \\left( \\frac{b}{2} - \\frac{\\sqrt{4 a + b^{2} - 2 b + 1}}{2} - \\frac{1}{2}, \\  \\frac{b}{2} - \\frac{\\sqrt{4 a + b^{2} - 2 b + 1}}{2} - \\frac{1}{2}\\right), \\  \\left( \\frac{b}{2} + \\frac{\\sqrt{4 a + b^{2} - 2 b + 1}}{2} - \\frac{1}{2}, \\  \\frac{b}{2} + \\frac{\\sqrt{4 a + b^{2} - 2 b + 1}}{2} - \\frac{1}{2}\\right)\\right]$"
      ],
      "text/plain": [
       "<IPython.core.display.Math object>"
      ]
     },
     "metadata": {},
     "output_type": "display_data"
    }
   ],
   "source": [
    "from IPython.display import display, Math\n",
    "soln = solve([eq1, eq2], [x, y])\n",
    "print(\"Candidates for solution: \")\n",
    "display(Math(latex(soln)))"
   ]
  },
  {
   "cell_type": "code",
   "execution_count": 120,
   "metadata": {},
   "outputs": [
    {
     "name": "stdout",
     "output_type": "stream",
     "text": [
      "Solution: \n"
     ]
    },
    {
     "data": {
      "text/latex": [
       "$\\displaystyle \\left[ \\left( - \\frac{b}{2} - \\frac{\\sqrt{4 a - 3 b^{2} + 6 b - 3}}{2} + \\frac{1}{2}, \\  - \\frac{b}{2} + \\frac{\\sqrt{4 a - 3 b^{2} + 6 b - 3}}{2} + \\frac{1}{2}\\right), \\  \\left( - \\frac{b}{2} + \\frac{\\sqrt{4 a - 3 b^{2} + 6 b - 3}}{2} + \\frac{1}{2}, \\  - \\frac{b}{2} - \\frac{\\sqrt{4 a - 3 b^{2} + 6 b - 3}}{2} + \\frac{1}{2}\\right)\\right]$"
      ],
      "text/plain": [
       "<IPython.core.display.Math object>"
      ]
     },
     "metadata": {},
     "output_type": "display_data"
    }
   ],
   "source": [
    "# remove fixed points of f\n",
    "print(\"Solution: \")\n",
    "display(Math(latex(soln[:2])))"
   ]
  },
  {
   "cell_type": "code",
   "execution_count": 121,
   "metadata": {},
   "outputs": [],
   "source": [
    "def henon_fixed_points(a,b):\n",
    "    delta = np.sqrt((1-b)**2 + 4*a)\n",
    "    x1 = (1-b + delta)/2\n",
    "    x2 = (1-b - delta)/2\n",
    "    return [(x1,x1), (x2,x2)]\n",
    "\n",
    "def henon_jacobian(b, x):\n",
    "    return np.array([[-2*x, b],[1, 0]])\n",
    "\n"
   ]
  },
  {
   "cell_type": "markdown",
   "metadata": {},
   "source": [
    "### Item a)"
   ]
  },
  {
   "cell_type": "markdown",
   "metadata": {},
   "source": [
    "Pontos fixos:"
   ]
  },
  {
   "cell_type": "code",
   "execution_count": 122,
   "metadata": {},
   "outputs": [
    {
     "data": {
      "text/plain": [
       "[(0.7999999999999995, 0.7999999999999995),\n",
       " (0.7000000000000005, 0.7000000000000005)]"
      ]
     },
     "execution_count": 122,
     "metadata": {},
     "output_type": "execute_result"
    }
   ],
   "source": [
    "av = -0.56\n",
    "bv = -0.5\n",
    "henon_fixed_points(av,bv)"
   ]
  },
  {
   "cell_type": "markdown",
   "metadata": {},
   "source": [
    "Da matriz Jacobiana, podemos classificar cada um dos dois pontos fixos:"
   ]
  },
  {
   "cell_type": "code",
   "execution_count": 123,
   "metadata": {},
   "outputs": [
    {
     "name": "stdout",
     "output_type": "stream",
     "text": [
      "Jacobian at fixed point (0.7999999999999995, 0.7999999999999995):\n",
      "[[-1.6 -0.5]\n",
      " [ 1.   0. ]]\n",
      "eigenvalues: [-1.17416574 -0.42583426]\n",
      "Fixed point classification: saddle\n",
      "Jacobian at fixed point (0.7000000000000005, 0.7000000000000005):\n",
      "[[-1.4 -0.5]\n",
      " [ 1.   0. ]]\n",
      "eigenvalues: [-0.7+0.1j -0.7-0.1j]\n",
      "Fixed point classification: sink\n"
     ]
    }
   ],
   "source": [
    "for x,_ in henon_fixed_points(av,bv):\n",
    "    print(f\"Jacobian at fixed point ({x}, {x}):\")\n",
    "    m = henon_jacobian(bv, x)\n",
    "    print(m)\n",
    "    c = classify_linear_map(m)\n",
    "    print(f\"Fixed point classification: {c}\")"
   ]
  },
  {
   "cell_type": "markdown",
   "metadata": {},
   "source": [
    "Órbitas de período 2:"
   ]
  },
  {
   "cell_type": "code",
   "execution_count": 124,
   "metadata": {},
   "outputs": [
    {
     "data": {
      "text/latex": [
       "$\\displaystyle \\left. \\left( - \\frac{b}{2} - \\frac{\\sqrt{4 a - 3 b^{2} + 6 b - 3}}{2} + \\frac{1}{2}, \\  - \\frac{b}{2} + \\frac{\\sqrt{4 a - 3 b^{2} + 6 b - 3}}{2} + \\frac{1}{2}\\right) \\right|_{\\substack{ a=- \\frac{14}{25}\\\\ b=- \\frac{1}{2} }}$"
      ],
      "text/plain": [
       "Subs((-b/2 - sqrt(4*a - 3*b**2 + 6*b - 3)/2 + 1/2, -b/2 + sqrt(4*a - 3*b**2 + 6*b - 3)/2 + 1/2), (a, b), (-14/25, -1/2))"
      ]
     },
     "execution_count": 124,
     "metadata": {},
     "output_type": "execute_result"
    }
   ],
   "source": [
    "# a) $a = -0.56$ and $b = -0.5$\n",
    "Subs(soln[0], (a,b), (-Rational(56,100), -Rational(1,2)))"
   ]
  },
  {
   "cell_type": "code",
   "execution_count": 125,
   "metadata": {},
   "outputs": [
    {
     "data": {
      "text/latex": [
       "$\\displaystyle \\left( \\frac{3}{4} + \\frac{\\sqrt{899} i}{20}, \\  \\frac{3}{4} - \\frac{\\sqrt{899} i}{20}\\right)$"
      ],
      "text/plain": [
       "(3/4 + sqrt(899)*I/20, 3/4 - sqrt(899)*I/20)"
      ]
     },
     "execution_count": 125,
     "metadata": {},
     "output_type": "execute_result"
    }
   ],
   "source": [
    "Subs(soln[1], (a,b), (-Rational(56,100), -Rational(1,2))).doit()"
   ]
  },
  {
   "cell_type": "markdown",
   "metadata": {},
   "source": [
    "Como as soluções das equações não pertencem a $\\mathbb{R}^2$, podemos afirmar que $f_{a,b}$ não possui órbitas de período 2 para $a = -0.56$ and $b = -0.5$."
   ]
  },
  {
   "cell_type": "markdown",
   "metadata": {},
   "source": [
    "### Item b)"
   ]
  },
  {
   "cell_type": "markdown",
   "metadata": {},
   "source": [
    "Pontos fixos:"
   ]
  },
  {
   "cell_type": "code",
   "execution_count": 126,
   "metadata": {},
   "outputs": [
    {
     "data": {
      "text/plain": [
       "[(0.7, 0.7), (-0.3, -0.3)]"
      ]
     },
     "execution_count": 126,
     "metadata": {},
     "output_type": "execute_result"
    }
   ],
   "source": [
    "av = 0.21\n",
    "bv = 0.6\n",
    "henon_fixed_points(av,bv)"
   ]
  },
  {
   "cell_type": "markdown",
   "metadata": {},
   "source": [
    "Da matriz Jacobiana, podemos classificar cada um dos dois pontos fixos:"
   ]
  },
  {
   "cell_type": "code",
   "execution_count": 127,
   "metadata": {},
   "outputs": [
    {
     "name": "stdout",
     "output_type": "stream",
     "text": [
      "Jacobian at fixed point (0.7, 0.7):\n",
      "[[-1.4  0.6]\n",
      " [ 1.   0. ]]\n",
      "eigenvalues: [-1.74403065  0.34403065]\n",
      "Fixed point classification: saddle\n",
      "Jacobian at fixed point (-0.3, -0.3):\n",
      "[[0.6 0.6]\n",
      " [1.  0. ]]\n",
      "eigenvalues: [ 1.13066239 -0.53066239]\n",
      "Fixed point classification: saddle\n"
     ]
    }
   ],
   "source": [
    "for x,_ in henon_fixed_points(av,bv):\n",
    "    print(f\"Jacobian at fixed point ({x}, {x}):\")\n",
    "    m = henon_jacobian(bv, x)\n",
    "    print(m)\n",
    "    c = classify_linear_map(m)\n",
    "    print(f\"Fixed point classification: {c}\")"
   ]
  },
  {
   "cell_type": "markdown",
   "metadata": {},
   "source": [
    "Órbitas de período 2:"
   ]
  },
  {
   "cell_type": "code",
   "execution_count": 128,
   "metadata": {},
   "outputs": [
    {
     "data": {
      "text/latex": [
       "$\\displaystyle \\left( - \\frac{1}{10}, \\  \\frac{1}{2}\\right)$"
      ],
      "text/plain": [
       "(-1/10, 1/2)"
      ]
     },
     "execution_count": 128,
     "metadata": {},
     "output_type": "execute_result"
    }
   ],
   "source": [
    "# b) $a = 0.21$ and $b = 0.6$\n",
    "Subs(soln[0], (a,b), (Rational(21,100), Rational(6,10))).doit()"
   ]
  },
  {
   "cell_type": "code",
   "execution_count": 129,
   "metadata": {},
   "outputs": [
    {
     "data": {
      "text/latex": [
       "$\\displaystyle \\left( \\frac{1}{2}, \\  - \\frac{1}{10}\\right)$"
      ],
      "text/plain": [
       "(1/2, -1/10)"
      ]
     },
     "execution_count": 129,
     "metadata": {},
     "output_type": "execute_result"
    }
   ],
   "source": [
    "Subs(soln[1], (a,b), (Rational(21,100), Rational(6,10))).doit()"
   ]
  },
  {
   "cell_type": "markdown",
   "metadata": {},
   "source": [
    "## Exercício 2.5\n",
    "\n",
    "Let $f(x,y,z)=(x^2 y, y^2, xz + y)$ be a map on $\\mathbb{R}^3$. Find and classify all the fixed points of $f$."
   ]
  },
  {
   "cell_type": "markdown",
   "metadata": {},
   "source": [
    "## Solução\n",
    "\n",
    "Para achar os pontos fixos de $f(x,y,z)=(x^2 y, y^2, xz + y)$, é preciso resolver o sistema:\n",
    "\n",
    "$$ \\begin{cases} x^2 y = x \\\\ y^2 = y \\\\ xz + y = z \\end{cases} $$\n",
    "\n",
    "- Da segunda equação, $y = 0$ ou $y = 1$.\n",
    "- Se $y = 0$, então $x = z = 0$ (ponto fixo trivial).\n",
    "- Se $y = 1$, então:\n",
    "    - $x = 0$ e $z = 1$\n",
    "    - ou $x = 1$ e $z = 2$\n",
    "\n",
    "Logo, existem 3 pontos fixos:\n",
    "\n",
    "$$ F = \\{ (0,0,0), (0,1,1), (1,1,2) \\} $$\n",
    "\n",
    "Jacobiana de $f$:\n",
    "\n",
    "$$ Df(x,y,z) = \\begin{bmatrix} 2xy & x^2 & 0 \\\\ 0 & 2y & 0 \\\\ z & 1 & x \\end{bmatrix}$$"
   ]
  },
  {
   "cell_type": "code",
   "execution_count": 130,
   "metadata": {},
   "outputs": [],
   "source": [
    "def jacobian(x, y, z):\n",
    "    return np.array([[2*x*y, x**2, 0],[0, 2*y, 0],[z, 1, x]])"
   ]
  },
  {
   "cell_type": "code",
   "execution_count": 131,
   "metadata": {},
   "outputs": [
    {
     "name": "stdout",
     "output_type": "stream",
     "text": [
      "Jacobian at fixed point (0, 0, 0):\n",
      "[[0 0 0]\n",
      " [0 0 0]\n",
      " [0 1 0]]\n",
      "eigenvalues: [0. 0. 0.]\n",
      "Fixed point classification: sink\n",
      "Jacobian at fixed point (0, 1, 1):\n",
      "[[0 0 0]\n",
      " [0 2 0]\n",
      " [1 1 0]]\n",
      "eigenvalues: [0. 0. 2.]\n",
      "Fixed point classification: saddle\n",
      "Jacobian at fixed point (1, 1, 2):\n",
      "[[2 1 0]\n",
      " [0 2 0]\n",
      " [2 1 1]]\n",
      "eigenvalues: [1. 2. 2.]\n",
      "Fixed point classification: unknown\n"
     ]
    }
   ],
   "source": [
    "for x in {(0,0,0), (0,1,1), (1,1,2)}:\n",
    "    print(f\"Jacobian at fixed point {x}:\")\n",
    "    m = jacobian(*x)\n",
    "    print(m)\n",
    "    c = classify_linear_map(m)\n",
    "    print(f\"Fixed point classification: {c}\")"
   ]
  },
  {
   "cell_type": "code",
   "execution_count": null,
   "metadata": {},
   "outputs": [],
   "source": []
  }
 ],
 "metadata": {
  "kernelspec": {
   "display_name": "sciencevenv",
   "language": "python",
   "name": "python3"
  },
  "language_info": {
   "codemirror_mode": {
    "name": "ipython",
    "version": 3
   },
   "file_extension": ".py",
   "mimetype": "text/x-python",
   "name": "python",
   "nbconvert_exporter": "python",
   "pygments_lexer": "ipython3",
   "version": "3.11.3"
  },
  "orig_nbformat": 4
 },
 "nbformat": 4,
 "nbformat_minor": 2
}
