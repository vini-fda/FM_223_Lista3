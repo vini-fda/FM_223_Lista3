{
 "cells": [
  {
   "cell_type": "markdown",
   "metadata": {},
   "source": [
    "# FM-223: Lista 3\n",
    "\n",
    "Aluno:  Vinícius Freitas de Almeida"
   ]
  },
  {
   "cell_type": "markdown",
   "metadata": {},
   "source": [
    "## Exercício 2.1\n",
    "\n",
    "For each of the following linear maps, decide whether the origin is a sink, source or saddle.\n",
    "\n",
    "a) $\\begin{bmatrix} 4 \\quad 30 \\\\ 1 \\quad 3 \\end{bmatrix}$\n",
    "b) $\\begin{bmatrix} 1 \\quad 1/2 \\\\ 1/4 \\quad 3/4 \\end{bmatrix}$\n",
    "c) $\\begin{bmatrix} -0.4 \\quad 2.4 \\\\ -0.4 \\quad 1.6 \\end{bmatrix}$"
   ]
  },
  {
   "cell_type": "markdown",
   "metadata": {},
   "source": [
    "## Solução\n",
    "\n",
    "Por definição, um ponto fixo $p$ é atrator (sink) se existe $\\varepsilon > 0$ tal que, para todo ponto $v$ na vizinhança $V_\\varepsilon(p)$, existe $n_0 \\in \\mathbb{N}$ tal que $f^n(v) \\in V_\\varepsilon(p)$ para todo $n \\geq n_0$. \n",
    "\n",
    "Com isso em mente, pode-se analisar um mapa linear $f: \\mathbb{R}^2 \\to \\mathbb{R}^2$ a partir dos autovalores de sua matriz associada $A$:\n",
    "\n",
    "pontos fixos de $f$:\n",
    "\n",
    "$$ f(x) = x \\iff A x = x \\iff (I - A) x = 0$$"
   ]
  },
  {
   "cell_type": "markdown",
   "metadata": {},
   "source": [
    "## Exercício 2.2\n",
    "\n",
    "Find $$ \\lim_{n \\to \\infty} \\begin{bmatrix} 4.5 \\quad 8 \\\\ -2 \\quad -3.5 \\end{bmatrix}^n \\begin{bmatrix} 6 \\\\ 9 \\end{bmatrix}$$"
   ]
  },
  {
   "cell_type": "markdown",
   "metadata": {},
   "source": [
    "## Exercício 2.3\n",
    "\n",
    "Let $g(x,y) = (x^2 - 5x + y, x^2)$. Find and classify the fixed points of $g$ as sinks, sources or saddles."
   ]
  },
  {
   "cell_type": "markdown",
   "metadata": {},
   "source": [
    "## Exercício 2.4\n",
    "\n",
    "Find and classify all fixed points and period-two orbits of the Hénon map with\n",
    "\n",
    "a) $a = -0.56$ and $b = -0.5$\n",
    "\n",
    "b) $a = 0.21$ and $b = 0.6$"
   ]
  },
  {
   "cell_type": "markdown",
   "metadata": {},
   "source": [
    "## Exercício 2.5\n",
    "\n",
    "Let $f(x,y,z)=(x^2 y, y^2, xz + y)$ be a map on $\\mathbb{R}^3$. Find and classify all the fixed points of $f$."
   ]
  },
  {
   "cell_type": "code",
   "execution_count": null,
   "metadata": {},
   "outputs": [],
   "source": []
  }
 ],
 "metadata": {
  "language_info": {
   "name": "python"
  },
  "orig_nbformat": 4
 },
 "nbformat": 4,
 "nbformat_minor": 2
}
